{
 "cells": [
  {
   "cell_type": "code",
   "execution_count": 1,
   "id": "741408bd",
   "metadata": {},
   "outputs": [
    {
     "name": "stdout",
     "output_type": "stream",
     "text": [
      "Requirement already satisfied: numpy in c:\\users\\cyber\\anaconda3\\lib\\site-packages (1.24.3)\n"
     ]
    }
   ],
   "source": [
    "!pip install numpy"
   ]
  },
  {
   "cell_type": "code",
   "execution_count": 2,
   "id": "aab19422",
   "metadata": {},
   "outputs": [
    {
     "name": "stdout",
     "output_type": "stream",
     "text": [
      "Requirement already satisfied: pandas in c:\\users\\cyber\\anaconda3\\lib\\site-packages (1.5.3)\n",
      "Requirement already satisfied: python-dateutil>=2.8.1 in c:\\users\\cyber\\anaconda3\\lib\\site-packages (from pandas) (2.8.2)\n",
      "Requirement already satisfied: pytz>=2020.1 in c:\\users\\cyber\\anaconda3\\lib\\site-packages (from pandas) (2022.7)\n",
      "Requirement already satisfied: numpy>=1.21.0 in c:\\users\\cyber\\anaconda3\\lib\\site-packages (from pandas) (1.24.3)\n",
      "Requirement already satisfied: six>=1.5 in c:\\users\\cyber\\anaconda3\\lib\\site-packages (from python-dateutil>=2.8.1->pandas) (1.16.0)\n"
     ]
    }
   ],
   "source": [
    "!pip install pandas"
   ]
  },
  {
   "cell_type": "code",
   "execution_count": 3,
   "id": "736dce5b",
   "metadata": {},
   "outputs": [
    {
     "name": "stdout",
     "output_type": "stream",
     "text": [
      "Requirement already satisfied: tensorflow in c:\\users\\cyber\\anaconda3\\lib\\site-packages (2.13.0)\n",
      "Requirement already satisfied: tensorflow-intel==2.13.0 in c:\\users\\cyber\\anaconda3\\lib\\site-packages (from tensorflow) (2.13.0)\n",
      "Requirement already satisfied: absl-py>=1.0.0 in c:\\users\\cyber\\anaconda3\\lib\\site-packages (from tensorflow-intel==2.13.0->tensorflow) (1.4.0)\n",
      "Requirement already satisfied: astunparse>=1.6.0 in c:\\users\\cyber\\anaconda3\\lib\\site-packages (from tensorflow-intel==2.13.0->tensorflow) (1.6.3)\n",
      "Requirement already satisfied: flatbuffers>=23.1.21 in c:\\users\\cyber\\anaconda3\\lib\\site-packages (from tensorflow-intel==2.13.0->tensorflow) (23.5.26)\n",
      "Requirement already satisfied: gast<=0.4.0,>=0.2.1 in c:\\users\\cyber\\anaconda3\\lib\\site-packages (from tensorflow-intel==2.13.0->tensorflow) (0.4.0)\n",
      "Requirement already satisfied: google-pasta>=0.1.1 in c:\\users\\cyber\\anaconda3\\lib\\site-packages (from tensorflow-intel==2.13.0->tensorflow) (0.2.0)\n",
      "Requirement already satisfied: h5py>=2.9.0 in c:\\users\\cyber\\anaconda3\\lib\\site-packages (from tensorflow-intel==2.13.0->tensorflow) (3.7.0)\n",
      "Requirement already satisfied: libclang>=13.0.0 in c:\\users\\cyber\\anaconda3\\lib\\site-packages (from tensorflow-intel==2.13.0->tensorflow) (16.0.6)\n",
      "Requirement already satisfied: numpy<=1.24.3,>=1.22 in c:\\users\\cyber\\anaconda3\\lib\\site-packages (from tensorflow-intel==2.13.0->tensorflow) (1.24.3)\n",
      "Requirement already satisfied: opt-einsum>=2.3.2 in c:\\users\\cyber\\anaconda3\\lib\\site-packages (from tensorflow-intel==2.13.0->tensorflow) (3.3.0)\n",
      "Requirement already satisfied: packaging in c:\\users\\cyber\\anaconda3\\lib\\site-packages (from tensorflow-intel==2.13.0->tensorflow) (23.0)\n",
      "Requirement already satisfied: protobuf!=4.21.0,!=4.21.1,!=4.21.2,!=4.21.3,!=4.21.4,!=4.21.5,<5.0.0dev,>=3.20.3 in c:\\users\\cyber\\anaconda3\\lib\\site-packages (from tensorflow-intel==2.13.0->tensorflow) (4.24.2)\n",
      "Requirement already satisfied: setuptools in c:\\users\\cyber\\anaconda3\\lib\\site-packages (from tensorflow-intel==2.13.0->tensorflow) (68.0.0)\n",
      "Requirement already satisfied: six>=1.12.0 in c:\\users\\cyber\\anaconda3\\lib\\site-packages (from tensorflow-intel==2.13.0->tensorflow) (1.16.0)\n",
      "Requirement already satisfied: termcolor>=1.1.0 in c:\\users\\cyber\\anaconda3\\lib\\site-packages (from tensorflow-intel==2.13.0->tensorflow) (2.3.0)\n",
      "Requirement already satisfied: typing-extensions<4.6.0,>=3.6.6 in c:\\users\\cyber\\anaconda3\\lib\\site-packages (from tensorflow-intel==2.13.0->tensorflow) (4.5.0)\n",
      "Requirement already satisfied: wrapt>=1.11.0 in c:\\users\\cyber\\anaconda3\\lib\\site-packages (from tensorflow-intel==2.13.0->tensorflow) (1.14.1)\n",
      "Requirement already satisfied: grpcio<2.0,>=1.24.3 in c:\\users\\cyber\\anaconda3\\lib\\site-packages (from tensorflow-intel==2.13.0->tensorflow) (1.57.0)\n",
      "Requirement already satisfied: tensorboard<2.14,>=2.13 in c:\\users\\cyber\\anaconda3\\lib\\site-packages (from tensorflow-intel==2.13.0->tensorflow) (2.13.0)\n",
      "Requirement already satisfied: tensorflow-estimator<2.14,>=2.13.0 in c:\\users\\cyber\\anaconda3\\lib\\site-packages (from tensorflow-intel==2.13.0->tensorflow) (2.13.0)\n",
      "Requirement already satisfied: keras<2.14,>=2.13.1 in c:\\users\\cyber\\anaconda3\\lib\\site-packages (from tensorflow-intel==2.13.0->tensorflow) (2.13.1)\n",
      "Requirement already satisfied: tensorflow-io-gcs-filesystem>=0.23.1 in c:\\users\\cyber\\anaconda3\\lib\\site-packages (from tensorflow-intel==2.13.0->tensorflow) (0.31.0)\n",
      "Requirement already satisfied: wheel<1.0,>=0.23.0 in c:\\users\\cyber\\anaconda3\\lib\\site-packages (from astunparse>=1.6.0->tensorflow-intel==2.13.0->tensorflow) (0.38.4)\n",
      "Requirement already satisfied: google-auth<3,>=1.6.3 in c:\\users\\cyber\\anaconda3\\lib\\site-packages (from tensorboard<2.14,>=2.13->tensorflow-intel==2.13.0->tensorflow) (2.22.0)\n",
      "Requirement already satisfied: google-auth-oauthlib<1.1,>=0.5 in c:\\users\\cyber\\anaconda3\\lib\\site-packages (from tensorboard<2.14,>=2.13->tensorflow-intel==2.13.0->tensorflow) (1.0.0)\n",
      "Requirement already satisfied: markdown>=2.6.8 in c:\\users\\cyber\\anaconda3\\lib\\site-packages (from tensorboard<2.14,>=2.13->tensorflow-intel==2.13.0->tensorflow) (3.4.1)\n",
      "Requirement already satisfied: requests<3,>=2.21.0 in c:\\users\\cyber\\anaconda3\\lib\\site-packages (from tensorboard<2.14,>=2.13->tensorflow-intel==2.13.0->tensorflow) (2.31.0)\n",
      "Requirement already satisfied: tensorboard-data-server<0.8.0,>=0.7.0 in c:\\users\\cyber\\anaconda3\\lib\\site-packages (from tensorboard<2.14,>=2.13->tensorflow-intel==2.13.0->tensorflow) (0.7.1)\n",
      "Requirement already satisfied: werkzeug>=1.0.1 in c:\\users\\cyber\\anaconda3\\lib\\site-packages (from tensorboard<2.14,>=2.13->tensorflow-intel==2.13.0->tensorflow) (2.2.3)\n",
      "Requirement already satisfied: cachetools<6.0,>=2.0.0 in c:\\users\\cyber\\anaconda3\\lib\\site-packages (from google-auth<3,>=1.6.3->tensorboard<2.14,>=2.13->tensorflow-intel==2.13.0->tensorflow) (5.3.1)\n",
      "Requirement already satisfied: pyasn1-modules>=0.2.1 in c:\\users\\cyber\\anaconda3\\lib\\site-packages (from google-auth<3,>=1.6.3->tensorboard<2.14,>=2.13->tensorflow-intel==2.13.0->tensorflow) (0.2.8)\n",
      "Requirement already satisfied: rsa<5,>=3.1.4 in c:\\users\\cyber\\anaconda3\\lib\\site-packages (from google-auth<3,>=1.6.3->tensorboard<2.14,>=2.13->tensorflow-intel==2.13.0->tensorflow) (4.9)\n",
      "Requirement already satisfied: urllib3<2.0 in c:\\users\\cyber\\anaconda3\\lib\\site-packages (from google-auth<3,>=1.6.3->tensorboard<2.14,>=2.13->tensorflow-intel==2.13.0->tensorflow) (1.26.16)\n",
      "Requirement already satisfied: requests-oauthlib>=0.7.0 in c:\\users\\cyber\\anaconda3\\lib\\site-packages (from google-auth-oauthlib<1.1,>=0.5->tensorboard<2.14,>=2.13->tensorflow-intel==2.13.0->tensorflow) (1.3.1)\n",
      "Requirement already satisfied: charset-normalizer<4,>=2 in c:\\users\\cyber\\anaconda3\\lib\\site-packages (from requests<3,>=2.21.0->tensorboard<2.14,>=2.13->tensorflow-intel==2.13.0->tensorflow) (2.0.4)\n",
      "Requirement already satisfied: idna<4,>=2.5 in c:\\users\\cyber\\anaconda3\\lib\\site-packages (from requests<3,>=2.21.0->tensorboard<2.14,>=2.13->tensorflow-intel==2.13.0->tensorflow) (3.4)\n",
      "Requirement already satisfied: certifi>=2017.4.17 in c:\\users\\cyber\\anaconda3\\lib\\site-packages (from requests<3,>=2.21.0->tensorboard<2.14,>=2.13->tensorflow-intel==2.13.0->tensorflow) (2023.7.22)\n",
      "Requirement already satisfied: MarkupSafe>=2.1.1 in c:\\users\\cyber\\anaconda3\\lib\\site-packages (from werkzeug>=1.0.1->tensorboard<2.14,>=2.13->tensorflow-intel==2.13.0->tensorflow) (2.1.1)\n",
      "Requirement already satisfied: pyasn1<0.5.0,>=0.4.6 in c:\\users\\cyber\\anaconda3\\lib\\site-packages (from pyasn1-modules>=0.2.1->google-auth<3,>=1.6.3->tensorboard<2.14,>=2.13->tensorflow-intel==2.13.0->tensorflow) (0.4.8)\n",
      "Requirement already satisfied: oauthlib>=3.0.0 in c:\\users\\cyber\\anaconda3\\lib\\site-packages (from requests-oauthlib>=0.7.0->google-auth-oauthlib<1.1,>=0.5->tensorboard<2.14,>=2.13->tensorflow-intel==2.13.0->tensorflow) (3.2.2)\n"
     ]
    }
   ],
   "source": [
    "!pip install tensorflow"
   ]
  },
  {
   "cell_type": "code",
   "execution_count": 4,
   "id": "077e9510",
   "metadata": {},
   "outputs": [
    {
     "name": "stdout",
     "output_type": "stream",
     "text": [
      "Requirement already satisfied: scikit-learn in c:\\users\\cyber\\anaconda3\\lib\\site-packages (1.3.0)\n",
      "Requirement already satisfied: numpy>=1.17.3 in c:\\users\\cyber\\anaconda3\\lib\\site-packages (from scikit-learn) (1.24.3)\n",
      "Requirement already satisfied: scipy>=1.5.0 in c:\\users\\cyber\\anaconda3\\lib\\site-packages (from scikit-learn) (1.10.1)\n",
      "Requirement already satisfied: joblib>=1.1.1 in c:\\users\\cyber\\anaconda3\\lib\\site-packages (from scikit-learn) (1.2.0)\n",
      "Requirement already satisfied: threadpoolctl>=2.0.0 in c:\\users\\cyber\\anaconda3\\lib\\site-packages (from scikit-learn) (2.2.0)\n"
     ]
    }
   ],
   "source": [
    "!pip install scikit-learn"
   ]
  },
  {
   "cell_type": "code",
   "execution_count": 5,
   "id": "d715b299",
   "metadata": {},
   "outputs": [
    {
     "name": "stdout",
     "output_type": "stream",
     "text": [
      "Requirement already satisfied: matplotlib_venn in c:\\users\\cyber\\anaconda3\\lib\\site-packages (0.11.9)Note: you may need to restart the kernel to use updated packages.\n",
      "\n",
      "Requirement already satisfied: matplotlib in c:\\users\\cyber\\anaconda3\\lib\\site-packages (from matplotlib_venn) (3.7.1)\n",
      "Requirement already satisfied: numpy in c:\\users\\cyber\\anaconda3\\lib\\site-packages (from matplotlib_venn) (1.24.3)\n",
      "Requirement already satisfied: scipy in c:\\users\\cyber\\anaconda3\\lib\\site-packages (from matplotlib_venn) (1.10.1)\n",
      "Requirement already satisfied: contourpy>=1.0.1 in c:\\users\\cyber\\anaconda3\\lib\\site-packages (from matplotlib->matplotlib_venn) (1.0.5)\n",
      "Requirement already satisfied: cycler>=0.10 in c:\\users\\cyber\\anaconda3\\lib\\site-packages (from matplotlib->matplotlib_venn) (0.11.0)\n",
      "Requirement already satisfied: fonttools>=4.22.0 in c:\\users\\cyber\\anaconda3\\lib\\site-packages (from matplotlib->matplotlib_venn) (4.25.0)\n",
      "Requirement already satisfied: kiwisolver>=1.0.1 in c:\\users\\cyber\\anaconda3\\lib\\site-packages (from matplotlib->matplotlib_venn) (1.4.4)\n",
      "Requirement already satisfied: packaging>=20.0 in c:\\users\\cyber\\anaconda3\\lib\\site-packages (from matplotlib->matplotlib_venn) (23.0)\n",
      "Requirement already satisfied: pillow>=6.2.0 in c:\\users\\cyber\\anaconda3\\lib\\site-packages (from matplotlib->matplotlib_venn) (9.4.0)\n",
      "Requirement already satisfied: pyparsing>=2.3.1 in c:\\users\\cyber\\anaconda3\\lib\\site-packages (from matplotlib->matplotlib_venn) (3.0.9)\n",
      "Requirement already satisfied: python-dateutil>=2.7 in c:\\users\\cyber\\anaconda3\\lib\\site-packages (from matplotlib->matplotlib_venn) (2.8.2)\n",
      "Requirement already satisfied: six>=1.5 in c:\\users\\cyber\\anaconda3\\lib\\site-packages (from python-dateutil>=2.7->matplotlib->matplotlib_venn) (1.16.0)\n"
     ]
    }
   ],
   "source": [
    "pip install matplotlib_venn"
   ]
  },
  {
   "cell_type": "markdown",
   "id": "06c9b523",
   "metadata": {},
   "source": [
    "**Franchesca Marianne N. Kho** \\\n",
    "**BS Computer Science** \\\n",
    "**CIS 1103 Group 6: Discrete Math I TTH 3:00-4:30pm**"
   ]
  },
  {
   "cell_type": "markdown",
   "id": "6e1291b1",
   "metadata": {},
   "source": [
    "# 1. Proving Identities \n",
    "## Use Latex Programming\n",
    "\n",
    "*Given: A and B are sets, x such that $\\ni$ (x $\\cap$ A $\\wedge$ x $\\in$ B)*\n",
    "\n",
    "*Show that:*\n",
    "\n",
    "- #### A\\B = A  $\\cap$ $B^c$\n",
    "\n",
    "\n",
    "\n",
    "- #### B = (B $\\cap$ A) $\\cup$ (B $\\cap$ $A^c$)\n",
    "\n",
    "\n",
    "\n",
    "- #### B\\A = B $\\cap A^c$\n",
    "\n",
    "\n",
    "\n",
    "- #### A $\\cup$ B = A $\\cup$ (B $\\cap$ $A^c$)\n",
    "\n",
    "\n",
    "\n",
    "\n",
    "- #### $(U^\\infty _{i=1} A^c_i)^c$ = $\\cap^\\infty _{i=1}$  $A^c_i$\n",
    "\n",
    "\n",
    "\n",
    "\n",
    "- #### |A $\\cup$ B| = |A|+|B| - |A $\\cap$ B|"
   ]
  },
  {
   "cell_type": "markdown",
   "id": "85b3b82b",
   "metadata": {},
   "source": [
    "#### 1.) A\\B = A  $\\cap$ $B^c$\n",
    "\n",
    "**Proof**:\\\n",
    "x $\\in$ A and x $\\notin$ B\\\n",
    "x $\\in$ A and x $\\in$ $B^C$\\\n",
    "x $\\in$ A $\\cap$ $B^C$\\\n",
    "A\\B $\\subseteq$ A $\\cap$ $B^C$\n"
   ]
  },
  {
   "cell_type": "markdown",
   "id": "540238f8",
   "metadata": {},
   "source": [
    "#### 2.) B = (B $\\cap$ A) $\\cup$ (B $\\cap$ $A^c$)\n",
    "\n",
    "**Proof**:\\\n",
    "x $\\in$ (B $\\cup$ (A $\\cap$ $A^C$)) $\\cap$ (B $\\cup$ ($A^C$ $\\cap$ A))\\\n",
    "x $\\in$ (B $\\cap$ U) $\\cup$ (B $\\cap$ U)\\\n",
    "x $\\in$ B $\\cup$ B\\\n",
    "x $\\in$ B\\\n",
    "(A $\\cap$ B) $\\cup$ (B $\\cap$ A) $\\subseteq$ B"
   ]
  },
  {
   "cell_type": "markdown",
   "id": "61d2709d",
   "metadata": {},
   "source": [
    "#### 3.) B\\A = B $\\cap$ $A^C$\n",
    "\n",
    "**Proof**:\\\n",
    "x $\\in$ B and x $\\notin$ A\\\n",
    "x $\\in$ B and x $\\in$ $A^C$\\\n",
    "x $\\in$ B $\\cap$ $A^C$\\\n",
    "B\\A $\\subseteq$ B $\\cap$ $A^C$"
   ]
  },
  {
   "cell_type": "markdown",
   "id": "1029c4f2",
   "metadata": {},
   "source": [
    "#### 4.) A $\\cup$ B = A $\\cup$ (B $\\cap$ $A^c$)\n",
    "**Proof**:\\\n",
    "x $\\in$ A or x $\\in$ B\\\n",
    "x $\\in$ A or x $\\in$(B$\\cap$ $A^c$)\\\n",
    "A $\\cup$ B $\\subseteq$ U\\\n",
    "A $\\cup$ B = A $\\cup$ (B $\\cap$ $A^c$)"
   ]
  },
  {
   "cell_type": "markdown",
   "id": "bc0833c2",
   "metadata": {},
   "source": [
    "#### 5.) $(U^\\infty _{i=1} A^c_i)^c$ = $\\cap^\\infty _{i=1}$  $A^c_i$\n",
    "**Proof**:\\\n",
    "$(\\bigcup_{i=1}^{\\infty} A^c_i)^c$:\\\n",
    "$\\bigcap_{i=1}^{\\infty} A^c_i$\\\n",
    "$(\\bigcup_{i=1}^{\\infty} A^c_i)^c$\\\n",
    "$(\\bigcup_{i=1}^{\\infty} A^c_i)^c = \\bigcap_{i=1}^{\\infty} A^c_i$\n",
    "\n",
    "Both sides are disjoint, which means they only contain null, and therefore both are equal.\n"
   ]
  },
  {
   "cell_type": "markdown",
   "id": "2841fa91",
   "metadata": {},
   "source": [
    "#### 6.) |A $\\cup$ B| = |A|+|B| - |A $\\cap$ B|\n",
    "**Proof**:\\\n",
    "n(A$\\cup$B)=n(A)+n(B)−n(A$\\cap$B)+n(A$\\cap$B)\\\n",
    "n(A$\\cup$B)=n(A)+n(B)−n(A$\\cap$B)"
   ]
  },
  {
   "cell_type": "markdown",
   "id": "1b58fb09",
   "metadata": {},
   "source": [
    "# 2. Sets and Subsets\n",
    "### Use Latex Programming\n",
    "\n",
    "- If A = {2,3,4,5}, and B = {$x \\in \\mathbb{N} | x \\ is \\ even$}. Is A $\\subset$ B? Show a proof.\n",
    "- Let sets $\\textbf{A} = \\{x|x \\in \\mathbb{Z}, 0 \\leq x \\leq 9\\},\n",
    "\\textbf{B} = \\{ 2,4,6,8\\},\n",
    "\\ and \\ \n",
    "\\textbf{C}  = \\{ 1,3,5,7,9\\}\n",
    "\\ and \\ \\textbf{D}  = \\{ 3,4,5\\}$\n",
    "Find a set $\\textbf{X}$ which will satisfy the following conditions:\n",
    "    1. $\\textbf{X} \\ and \\ \\textbf{B}$ are disjoint.\n",
    "    2. $\\textbf{X} \\subseteq \\textbf{D}$ but $\\textbf{X} \\nsubseteq \\textbf{B}$.\n",
    "    3. $\\textbf{X} \\subseteq \\textbf{A}$ but $\\textbf{X} \\not\\subset \\textbf{C}$"
   ]
  },
  {
   "cell_type": "markdown",
   "id": "3e9dd330",
   "metadata": {},
   "source": [
    "#### 1.) If A = {2,3,4,5}, and B = {$x \\in \\mathbb{N} | x \\ is \\ even$}. Is A $\\subset$ B? Show a proof.\n",
    "**Proof**:\\\n",
    "*If $A = \\{2, 3, 4, 5\\}$, and $B = \\{x \\in \\mathbb{N} \\mid x \\text{ is even}\\}$, is $A \\subset B$? Show a proof.*\n",
    "\n",
    "To prove whether $A \\subset B$, we need to show that every element of set $A$ is also an element of set $B$.\n",
    "\n",
    "Set $A = \\{2, 3, 4, 5\\}$\n",
    "Set $B = \\{x \\in \\mathbb{N} \\mid x \\text{ is even}\\}$\n",
    "\n",
    "For $A \\subset B$, we check if each element of $A$ is in $B$:\n",
    "\n",
    "- $2$ is even, so it's in $B$.\n",
    "- $3$ is not even, so it's not in $B$.\n",
    "- $4$ is even, so it's in $B$.\n",
    "- $5$ is not even, so it's not in $B$.\n",
    "\n",
    "Since not all elements of $A$ are in $B$, $A$ is not a subset of $B$.\n"
   ]
  },
  {
   "cell_type": "markdown",
   "id": "80aa0f48",
   "metadata": {},
   "source": [
    "#### 2.) Let sets $\\textbf{A} = \\{x|x \\in \\mathbb{Z}, 0 \\leq x \\leq 9\\},\n",
    "\\textbf{B} = \\{ 2,4,6,8\\},\n",
    "\\ and \\ \n",
    "\\textbf{C}  = \\{ 1,3,5,7,9\\}\n",
    "\\ and \\ \\textbf{D}  = \\{ 3,4,5\\}$\n",
    "Find a set $\\textbf{X}$ which will satisfy the following conditions:\n",
    "    1. $\\textbf{X} \\ and \\ \\textbf{B}$ are disjoint.\n",
    "    2. $\\textbf{X} \\subseteq \\textbf{D}$ but $\\textbf{X} \\nsubseteq \\textbf{B}$.\n",
    "    3. $\\textbf{X} \\subseteq \\textbf{A}$ but $\\textbf{X} \\not\\subset \\textbf{C}$\n",
    "    \n",
    "**Proof**:\n",
    "\n",
    "1st Condition: $\\textbf{X} \\ and \\ \\textbf{B}$ are disjoint.\\\n",
    "X = {1, 3, 5, 7, 9}\n",
    "\n",
    "2nd Condition: $\\textbf{X} \\subseteq \\textbf{D}$ but $\\textbf{X} \\nsubseteq \\textbf{B}$.\\\n",
    "X = {3, 5} \n",
    "\n",
    "3rd Condition: $\\textbf{X} \\subseteq \\textbf{A}$ but $\\textbf{X} \\not\\subset \\textbf{C}$\\\n",
    "The set X = {2, 4 ,6, 8} \n",
    "\n",
    "It is impossible to find a set X which satisfies each of the following conditions due to conflicting data."
   ]
  },
  {
   "cell_type": "markdown",
   "id": "97a1aa81",
   "metadata": {},
   "source": [
    "# 3. Set Operations\n",
    "\n",
    "##### 1. First solve the problems manually, use Latex programming to show your manual solutions\n",
    "\n",
    "##### 2. Second, solve the problem using python. Show your codes for the pythonic solutions.\n",
    "\n",
    "###### Given: \n",
    "U = {1, 2, 3, 4, 5}<br>\n",
    "A = {1, 2, 3, 4, 5}<br>\n",
    "B = {1, 2, 3, 4, 5}<br>\n",
    "C = {1, 2, 3, 4, 5}<br>\n",
    "D = {1, 2, 3, 4, 5}<br>\n",
    "E = {1, 2, 3, 4, 5}<br>\n",
    "\n",
    "- ### C $\\oplus$ D\n",
    "- ### A/B\n",
    "- ### B/A\n",
    "- ### E $\\oplus$ F"
   ]
  },
  {
   "cell_type": "markdown",
   "id": "8606a248",
   "metadata": {},
   "source": [
    "### Manual Solutions\n",
    "U = {1,2,3,4,5}\\\n",
    "A = {1,2,3,4,5}\\\n",
    "B = {4,5,6,7}\\\n",
    "C = {5,6,7,8,9}\\\n",
    "D = {1,3,5,7,9}\\\n",
    "E = {2,4,6,8}\\\n",
    "F = {1,5,9}\n"
   ]
  },
  {
   "cell_type": "markdown",
   "id": "eb9ab917",
   "metadata": {},
   "source": [
    "$C \\oplus D = (C \\cup D) \\setminus (C \\cap D)$ \\\n",
    "$= (\\{5,6,7,8,9\\} \\cup \\{1,3,5,7,9\\}) \\setminus (\\{5,6,7,8,9\\} \\cap \\{1,3,5,7,9\\})$ \\\n",
    "$= \\{1,3,5,6,7,8,9\\} \\setminus \\{5,7,9\\}$ \\\n",
    "$= \\{1,3,6,8\\}$"
   ]
  },
  {
   "cell_type": "markdown",
   "id": "5eac3418",
   "metadata": {},
   "source": [
    "$A \\backslash B = A - B$ \\\n",
    "$= \\{1,2,3,4,5\\} - \\{4,5,6,7\\}$ \\\n",
    "$ = \\{1,2,3\\}$"
   ]
  },
  {
   "cell_type": "markdown",
   "id": "8d6c036a",
   "metadata": {},
   "source": [
    "$B \\backslash A = B - A$ \\\n",
    "$= \\{4,5,6,7\\} - \\{1,2,3,4,5\\}$ \\\n",
    "$ = \\{6,7\\}$"
   ]
  },
  {
   "cell_type": "markdown",
   "id": "40c3f694",
   "metadata": {},
   "source": [
    "$E \\oplus F = (E \\cup F) \\setminus (E \\cap F)$ \\\n",
    "$= \\{1,2,4,5,6,8,9\\} \\setminus \\{\\}$ \\\n",
    "$= \\{1,2,4,5,6,8,9\\}$"
   ]
  },
  {
   "cell_type": "markdown",
   "id": "0f77d774",
   "metadata": {},
   "source": [
    "### Pythonic Solving"
   ]
  },
  {
   "cell_type": "code",
   "execution_count": 5,
   "id": "1a1a7887",
   "metadata": {},
   "outputs": [
    {
     "name": "stdout",
     "output_type": "stream",
     "text": [
      "C⊕D = {1, 3, 6, 8}\n",
      "A\\B = {1, 2, 3}\n",
      "B\\A = {6, 7}\n",
      "E⊕F = {1, 2, 4, 5, 6, 8, 9}\n"
     ]
    }
   ],
   "source": [
    "# Given sets\n",
    "U = {1,2,3,4,5}\n",
    "A = {1,2,3,4,5}\n",
    "B = {4,5,6,7}\n",
    "C = {5,6,7,8,9}\n",
    "D = {1,3,5,7,9}\n",
    "E = {2,4,6,8}\n",
    "F = {1,5,9}\n",
    "\n",
    "# Solve for symmetric difference between sets C and D\n",
    "print(\"C⊕D =\", CD)\n",
    "\n",
    "# Solve for set difference between sets A and B\n",
    "print(\"A\\\\B =\", AB)\n",
    "\n",
    "# Solve for set difference between sets B and A\n",
    "print(\"B\\\\A =\", BA)\n",
    "\n",
    "# Solve for symmetric difference between sets E and F\n",
    "print(\"E⊕F =\", EF)"
   ]
  },
  {
   "cell_type": "markdown",
   "id": "a4d00a6c",
   "metadata": {},
   "source": [
    "# 4. Finite Sets and The Counting Principles \n",
    "\n",
    "## Magazine Survey\n",
    "\n",
    "In a survey of 120 People, it was found that:<br> \n",
    "\n",
    "- 65 read Newsweek Magazine\n",
    "- 45 read Times Magazine\n",
    "- 42 read Fortune Magazine\n",
    "- 20 read both Newsweek and Times Magazine\n",
    "- 25 read both Newsweek and Fortune Magazine\n",
    "- 15 read both Times and Fortune Magazine\n",
    "- 8 read all three magazines \n",
    "\n",
    "With this information do the following: <br>\n",
    "\n",
    "1. Draw the venndiagram using python.\n",
    "2. Find the number of people who read at **\"least one\"** of the three magazines\n",
    "3. Find the number of people who read exactly one magazine \n",
    "\n",
    "\n"
   ]
  },
  {
   "cell_type": "code",
   "execution_count": 10,
   "id": "b521c893",
   "metadata": {},
   "outputs": [
    {
     "data": {
      "image/png": "[encoded data removed]",
      "text/plain": [
       "<Figure size 640x480 with 1 Axes>"
      ]
     },
     "metadata": {},
     "output_type": "display_data"
    }
   ],
   "source": [
    "from matplotlib_venn import venn2, venn3\n",
    "import matplotlib.pyplot as plt\n",
    "\n",
    "# Given data\n",
    "newsweek = 65 - (20 + 25 - 8)\n",
    "times = 45 - (20 + 15 - 8)\n",
    "fortune = 42 - (25 + 15 - 8)\n",
    "newsweek_and_times = 20 - 8\n",
    "newsweek_and_fortune = 25 - 8\n",
    "times_and_fortune = 15 - 8\n",
    "all_three = 8\n",
    "\n",
    "#X is people who read at least one of the three magazines\n",
    "X = 65 + 45 + 42 - 25 - 20 - 15 + 8\n",
    "\n",
    "#Y is total of people who have read exactly one magazine\n",
    "fortune_readers = 42 - 25 - 15 + 8\n",
    "newsweek_readers = 65 - 25 - 20 + 8\n",
    "times_readers = 45 - 15 -20 + 8\n",
    "\n",
    "Y = fortune_readers + newsweek_readers + times_readers\n",
    "\n",
    "venn = venn3(subsets=(newsweek, times, newsweek_and_times,\n",
    "                      fortune, newsweek_and_fortune, times_and_fortune, all_three),\n",
    "          set_labels=('Newsweek Magazine', 'Times Magazine', 'Fortune Magazine'))\n",
    "\n",
    "\n",
    "plt.title(\"Survey of Magazines\")\n",
    "plt.show()"
   ]
  },
  {
   "cell_type": "markdown",
   "id": "fa2f9abd",
   "metadata": {},
   "source": [
    "Find the number of people who read at least one of the three magazines: 100 <br>\n",
    "Find the number of people who read exactly one magazine: 56"
   ]
  },
  {
   "cell_type": "markdown",
   "id": "236c7847",
   "metadata": {},
   "source": [
    "In a survey of 25 new cars being sold at a local auto dealer was conducted to see which of the three popular options: air-conditioning, denoted as A; radio, denoted as R; and power windows, denoted as W were installed. The survey found that:\n",
    "- 15 had A. HINT: The condition said $\\textbf{\"had an A\"}$  <font color='red'>$\\textbf{ AND NOT}$ <font color='black'>$\\textbf{\"had an A only\"}$\n",
    "- 12 had R. HINT: The condition said $\\textbf{\"had a R\"}$  <font color='red'>$\\textbf{ AND NOT}$ <font color='black'>$\\textbf{\"had a R only\"}$\n",
    "- 11 had W. HINT: The condition said $\\textbf{\"had a W\"}$  <font color='red'>$\\textbf{ AND NOT}$ <font color='black'>$\\textbf{\"had a W only\"}$\n",
    "- 5 had A and W.\n",
    "- 9 had A and R.\n",
    "- 4 had R and W.\n",
    "- Only 3 hace the three options.\n",
    "With these information do the following:<br>\n",
    "1. Draw the venn diagram using python.<br>\n",
    "2. Find the number of cars with W only.<br>\n",
    "3. Find the number of cars with A only.<br>\n",
    "4. Find the number of cars with R only.<br>\n",
    "5. Find the number of cars with both R and W but not A.<br>\n",
    "6. Find the number of cars with both A and R but not W.<br>\n",
    "7. Find the number of cars with only one of the options.<br>\n",
    "8. Find the number of cars with at least one option.<br>\n",
    "9. Find the number of cars with none of the Options.<br>"
   ]
  },
  {
   "cell_type": "markdown",
   "id": "691172a6",
   "metadata": {},
   "source": [
    "## Car Survey\n",
    "\n"
   ]
  },
  {
   "cell_type": "code",
   "execution_count": 9,
   "id": "f5a3d1ce",
   "metadata": {},
   "outputs": [
    {
     "data": {
      "image/png": "[encoded data removed]",
      "text/plain": [
       "<Figure size 640x480 with 1 Axes>"
      ]
     },
     "metadata": {},
     "output_type": "display_data"
    },
    {
     "name": "stdout",
     "output_type": "stream",
     "text": [
      "Find the number of cars with W only: 5\n",
      "Find the number of cars with A only: 4\n",
      "Find the number of cars with R only: 2\n",
      "Find the number of cars with both R and W but not A: 1\n",
      "Find the number of cars with both A and R but not W: 6\n",
      "Find the number of cars with only one of the options: 11\n",
      "Find the number of cars with W at least one option: 23\n",
      "Find the number of cars with none of the options: 2\n"
     ]
    }
   ],
   "source": [
    "from matplotlib_venn import venn2, venn3\n",
    "import matplotlib.pyplot as plt\n",
    "\n",
    "# Given data\n",
    "T = 25\n",
    "AW = 5\n",
    "AR = 9\n",
    "RW = 4\n",
    "ARW = 3\n",
    "\n",
    "# Calculating the values of A, R, and W based on the given data\n",
    "A = 15 - (AW + AR - ARW)\n",
    "R = 12 - (RW + AR - ARW)\n",
    "W = 11 - (RW + AW - ARW)\n",
    "\n",
    "AW = 5 - ARW\n",
    "AR = 9 - ARW\n",
    "RW = 4 - ARW\n",
    "\n",
    "#O is number of cars with at least one option\n",
    "O = 15 + 11 + 12 - 5 - 9 - 4 + 3\n",
    "\n",
    "# N = number of cars with none of the options\n",
    "N = T - (15 + 11 + 12 - 5 - 9 - 4 + 3)\n",
    "\n",
    "# Venn diagram\n",
    "venn = venn3(subsets=(A, R, AR, W, AW, RW, ARW), set_labels=('A', 'R', 'W'))\n",
    "\n",
    "plt.title(\"Survey of Cars\")\n",
    "plt.show()\n",
    "\n",
    "# Print\n",
    "print(\"Find the number of cars with W only:\", W)\n",
    "print(\"Find the number of cars with A only:\", A)\n",
    "print(\"Find the number of cars with R only:\", R)\n",
    "print(\"Find the number of cars with both R and W but not A:\", RW)\n",
    "print(\"Find the number of cars with both A and R but not W:\", AR)\n",
    "print(\"Find the number of cars with only one of the options:\", A+R+W)\n",
    "print(\"Find the number of cars with W at least one option:\", O)\n",
    "print(\"Find the number of cars with none of the options:\", N)\n"
   ]
  },
  {
   "cell_type": "code",
   "execution_count": null,
   "id": "d36e52f5",
   "metadata": {},
   "outputs": [],
   "source": []
  }
 ],
 "metadata": {
  "kernelspec": {
   "display_name": "Python 3 (ipykernel)",
   "language": "python",
   "name": "python3"
  },
  "language_info": {
   "codemirror_mode": {
    "name": "ipython",
    "version": 3
   },
   "file_extension": ".py",
   "mimetype": "text/x-python",
   "name": "python",
   "nbconvert_exporter": "python",
   "pygments_lexer": "ipython3",
   "version": "3.11.4"
  }
 },
 "nbformat": 4,
 "nbformat_minor": 5
}
